{
 "cells": [
  {
   "cell_type": "code",
   "id": "initial_id",
   "metadata": {
    "ExecuteTime": {
     "end_time": "2025-07-05T08:27:30.865717Z",
     "start_time": "2025-07-05T08:27:30.862290Z"
    }
   },
   "source": [
    "import os\n",
    "import pandas as pd"
   ],
   "outputs": [],
   "execution_count": 2
  },
  {
   "cell_type": "code",
   "id": "f41c24ae-c564-4318-ad47-f02a8b276e18",
   "metadata": {
    "ExecuteTime": {
     "end_time": "2025-07-05T08:27:32.236343Z",
     "start_time": "2025-07-05T08:27:32.228838Z"
    }
   },
   "source": [
    "os.chdir(\"C:\\\\Users\\\\Sevak\\\\Desktop\\\\Analysis-of-Real-Estate-Markets-of-Armenia-main\\\\data\")\n",
    "os.listdir()"
   ],
   "outputs": [
    {
     "data": {
      "text/plain": [
       "['cleaned_data.csv', 'encoded_data.csv', 'raw_data.csv']"
      ]
     },
     "execution_count": 3,
     "metadata": {},
     "output_type": "execute_result"
    }
   ],
   "execution_count": 3
  },
  {
   "cell_type": "code",
   "id": "14afd4f8-41f1-4bfb-81c2-bcca59b3caa5",
   "metadata": {
    "ExecuteTime": {
     "end_time": "2025-07-05T08:27:33.988208Z",
     "start_time": "2025-07-05T08:27:33.955944Z"
    }
   },
   "source": [
    "data = pd.read_csv('raw_data.csv')\n",
    "data.head(10)"
   ],
   "outputs": [
    {
     "data": {
      "text/plain": [
       "               Տարածաշրջան         Շինության տիպ Սենյակներ  Մակերես  Հարկ  \\\n",
       "0          Երևան, Շենգավիթ                  Քարե         3       50     1   \n",
       "1           Երևան, Արաբկիր  Մոնոլիտ, Նորակառույց         2       70     3   \n",
       "2  Երևան, Մալաթիա Սեբաստիա             Պանելային         3      100     7   \n",
       "3  Երևան, Մալաթիա Սեբաստիա             Պանելային         1       45     1   \n",
       "4  Երևան, Մալաթիա Սեբաստիա             Պանելային         3       85     6   \n",
       "5   Երևան, Քանաքեռ Զեյթուն             Կասետային         2       52     4   \n",
       "6  Երևան, Մալաթիա Սեբաստիա             Պանելային         1       45     2   \n",
       "7           Երևան, Կենտրոն             Պանելային         3       80     9   \n",
       "8           Երևան, Կենտրոն                  Քարե         1       31     4   \n",
       "9           Երևան, Կենտրոն                  Քարե         3       77     4   \n",
       "\n",
       "     Վերանորոգում     Գինը  \n",
       "0         Կապիտալ   $64000  \n",
       "1  Զրոյական վիճակ  $150000  \n",
       "2   Պետական վիճակ  $115000  \n",
       "3         Կապիտալ   $67000  \n",
       "4   Պետական վիճակ     $386  \n",
       "5    Նորմալ վիճակ   $68000  \n",
       "6    Նորմալ վիճակ   $62000  \n",
       "7    Նորմալ վիճակ  $168000  \n",
       "8   Պետական վիճակ   $80000  \n",
       "9    Նորմալ վիճակ  $163000  "
      ],
      "text/html": [
       "<div>\n",
       "<style scoped>\n",
       "    .dataframe tbody tr th:only-of-type {\n",
       "        vertical-align: middle;\n",
       "    }\n",
       "\n",
       "    .dataframe tbody tr th {\n",
       "        vertical-align: top;\n",
       "    }\n",
       "\n",
       "    .dataframe thead th {\n",
       "        text-align: right;\n",
       "    }\n",
       "</style>\n",
       "<table border=\"1\" class=\"dataframe\">\n",
       "  <thead>\n",
       "    <tr style=\"text-align: right;\">\n",
       "      <th></th>\n",
       "      <th>Տարածաշրջան</th>\n",
       "      <th>Շինության տիպ</th>\n",
       "      <th>Սենյակներ</th>\n",
       "      <th>Մակերես</th>\n",
       "      <th>Հարկ</th>\n",
       "      <th>Վերանորոգում</th>\n",
       "      <th>Գինը</th>\n",
       "    </tr>\n",
       "  </thead>\n",
       "  <tbody>\n",
       "    <tr>\n",
       "      <th>0</th>\n",
       "      <td>Երևան, Շենգավիթ</td>\n",
       "      <td>Քարե</td>\n",
       "      <td>3</td>\n",
       "      <td>50</td>\n",
       "      <td>1</td>\n",
       "      <td>Կապիտալ</td>\n",
       "      <td>$64000</td>\n",
       "    </tr>\n",
       "    <tr>\n",
       "      <th>1</th>\n",
       "      <td>Երևան, Արաբկիր</td>\n",
       "      <td>Մոնոլիտ, Նորակառույց</td>\n",
       "      <td>2</td>\n",
       "      <td>70</td>\n",
       "      <td>3</td>\n",
       "      <td>Զրոյական վիճակ</td>\n",
       "      <td>$150000</td>\n",
       "    </tr>\n",
       "    <tr>\n",
       "      <th>2</th>\n",
       "      <td>Երևան, Մալաթիա Սեբաստիա</td>\n",
       "      <td>Պանելային</td>\n",
       "      <td>3</td>\n",
       "      <td>100</td>\n",
       "      <td>7</td>\n",
       "      <td>Պետական վիճակ</td>\n",
       "      <td>$115000</td>\n",
       "    </tr>\n",
       "    <tr>\n",
       "      <th>3</th>\n",
       "      <td>Երևան, Մալաթիա Սեբաստիա</td>\n",
       "      <td>Պանելային</td>\n",
       "      <td>1</td>\n",
       "      <td>45</td>\n",
       "      <td>1</td>\n",
       "      <td>Կապիտալ</td>\n",
       "      <td>$67000</td>\n",
       "    </tr>\n",
       "    <tr>\n",
       "      <th>4</th>\n",
       "      <td>Երևան, Մալաթիա Սեբաստիա</td>\n",
       "      <td>Պանելային</td>\n",
       "      <td>3</td>\n",
       "      <td>85</td>\n",
       "      <td>6</td>\n",
       "      <td>Պետական վիճակ</td>\n",
       "      <td>$386</td>\n",
       "    </tr>\n",
       "    <tr>\n",
       "      <th>5</th>\n",
       "      <td>Երևան, Քանաքեռ Զեյթուն</td>\n",
       "      <td>Կասետային</td>\n",
       "      <td>2</td>\n",
       "      <td>52</td>\n",
       "      <td>4</td>\n",
       "      <td>Նորմալ վիճակ</td>\n",
       "      <td>$68000</td>\n",
       "    </tr>\n",
       "    <tr>\n",
       "      <th>6</th>\n",
       "      <td>Երևան, Մալաթիա Սեբաստիա</td>\n",
       "      <td>Պանելային</td>\n",
       "      <td>1</td>\n",
       "      <td>45</td>\n",
       "      <td>2</td>\n",
       "      <td>Նորմալ վիճակ</td>\n",
       "      <td>$62000</td>\n",
       "    </tr>\n",
       "    <tr>\n",
       "      <th>7</th>\n",
       "      <td>Երևան, Կենտրոն</td>\n",
       "      <td>Պանելային</td>\n",
       "      <td>3</td>\n",
       "      <td>80</td>\n",
       "      <td>9</td>\n",
       "      <td>Նորմալ վիճակ</td>\n",
       "      <td>$168000</td>\n",
       "    </tr>\n",
       "    <tr>\n",
       "      <th>8</th>\n",
       "      <td>Երևան, Կենտրոն</td>\n",
       "      <td>Քարե</td>\n",
       "      <td>1</td>\n",
       "      <td>31</td>\n",
       "      <td>4</td>\n",
       "      <td>Պետական վիճակ</td>\n",
       "      <td>$80000</td>\n",
       "    </tr>\n",
       "    <tr>\n",
       "      <th>9</th>\n",
       "      <td>Երևան, Կենտրոն</td>\n",
       "      <td>Քարե</td>\n",
       "      <td>3</td>\n",
       "      <td>77</td>\n",
       "      <td>4</td>\n",
       "      <td>Նորմալ վիճակ</td>\n",
       "      <td>$163000</td>\n",
       "    </tr>\n",
       "  </tbody>\n",
       "</table>\n",
       "</div>"
      ]
     },
     "execution_count": 4,
     "metadata": {},
     "output_type": "execute_result"
    }
   ],
   "execution_count": 4
  },
  {
   "cell_type": "code",
   "id": "e4a354ad-52af-48a9-aad3-3788be6fcba1",
   "metadata": {
    "ExecuteTime": {
     "end_time": "2025-07-04T15:50:55.315757Z",
     "start_time": "2025-07-04T15:50:55.305081Z"
    }
   },
   "source": [
    "data = data.rename(\n",
    "    {\n",
    "        \"Տարածաշրջան\" : \"Region\",\n",
    "        \"Շինության տիպ\" : \"Building Type\",\n",
    "        \"Սենյակներ\" : \"Rooms\",\n",
    "        \"Մակերես\" : \"Area\",\n",
    "        \"Հարկ\" : \"Floor\",\n",
    "        \"Վերանորոգում\" : \"Renovation\",\n",
    "        \"Գինը\" : \"Price\"\n",
    "    },\n",
    "    axis = 1,\n",
    "    inplace = False\n",
    ")"
   ],
   "outputs": [],
   "execution_count": 6
  },
  {
   "cell_type": "code",
   "id": "9288024e-6dd6-4209-a641-a3b28742ba53",
   "metadata": {
    "ExecuteTime": {
     "end_time": "2025-07-04T15:50:55.816618Z",
     "start_time": "2025-07-04T15:50:55.808049Z"
    }
   },
   "source": [
    "data.shape"
   ],
   "outputs": [
    {
     "data": {
      "text/plain": [
       "(4590, 7)"
      ]
     },
     "execution_count": 7,
     "metadata": {},
     "output_type": "execute_result"
    }
   ],
   "execution_count": 7
  },
  {
   "cell_type": "code",
   "id": "62df5ffe-7802-42d7-8a0f-537c17d65a20",
   "metadata": {
    "ExecuteTime": {
     "end_time": "2025-07-04T15:50:56.453680Z",
     "start_time": "2025-07-04T15:50:56.442844Z"
    }
   },
   "source": [
    "data.isnull().sum()"
   ],
   "outputs": [
    {
     "data": {
      "text/plain": [
       "Region           0\n",
       "Building Type    0\n",
       "Rooms            0\n",
       "Area             0\n",
       "Floor            0\n",
       "Renovation       0\n",
       "Price            0\n",
       "dtype: int64"
      ]
     },
     "execution_count": 8,
     "metadata": {},
     "output_type": "execute_result"
    }
   ],
   "execution_count": 8
  },
  {
   "cell_type": "code",
   "id": "e080ad50-ee91-4943-a372-864814572720",
   "metadata": {
    "ExecuteTime": {
     "end_time": "2025-07-04T15:50:56.833292Z",
     "start_time": "2025-07-04T15:50:56.816659Z"
    }
   },
   "source": [
    "data[\"Region\"].value_counts()"
   ],
   "outputs": [
    {
     "data": {
      "text/plain": [
       "Region\n",
       "Երևան, Արաբկիր                                1232\n",
       "Երևան, Կենտրոն                                 781\n",
       "Երևան, Նոր Նորք                                494\n",
       "Երևան, Քանաքեռ Զեյթուն                         392\n",
       "Երևան, Մալաթիա Սեբաստիա                        347\n",
       "Երևան, Դավթաշեն                                322\n",
       "Երևան, Աջափնյակ                                314\n",
       "Երևան, Շենգավիթ                                285\n",
       "Երևան, Էրեբունի                                154\n",
       "Երևան, Ավան                                    148\n",
       "Կոտայք, Աբովյան                                 12\n",
       "Երևան, Նորք Մարաշ                               11\n",
       "Կոտայք, Հրազդան                                  9\n",
       "Երևան, Նուբարաշեն                                9\n",
       "Արարատ, Արարատ                                   8\n",
       "Լոռի, Վանաձոր                                    7\n",
       "Արարատ, Մասիս                                    6\n",
       "Արմավիր, Էջմիածին քաղաք                          6\n",
       "Արարատ, Արտաշատ                                  5\n",
       "Արմավիր, Մեծամոր                                 5\n",
       "Կոտայք, Եղվարդ                                   5\n",
       "Կոտայք, Զովունի գյուղ                            4\n",
       "Արմավիր, Արմավիր                                 3\n",
       "Արագածոտն, Աշտարակ                               3\n",
       "Շիրակ, Գյումրի                                   3\n",
       "Կոտայք, Ջրվեժ գյուղ                              2\n",
       "Կոտայք, Չարենցավան                               2\n",
       "Տավուշ, Դիլիջան                                  2\n",
       "Կոտայք, Բյուրեղավան                              2\n",
       "Արարատ, Այնթապ գյուղ                             1\n",
       "Կոտայք, Նոր Գեղի գյուղ                           1\n",
       "Գեղարքունիք, Մարտունի                            1\n",
       "Կոտայք, Ծաղկաձոր                                 1\n",
       "Կոտայք, Abovyan                                  1\n",
       "Կոտայք, բնակելի համալիր Զովեր Էկո Ռեզիդենս       1\n",
       "Արմավիր, Փարաքար գյուղ                           1\n",
       "Արմավիր, Փարաքար                                 1\n",
       "Կոտայք, Раздан                                   1\n",
       "Կոտայք, Առինջ գյուղ                              1\n",
       "Կոտայք, Պռոշյան գյուղ                            1\n",
       "Վայոց ձոր, Վայք                                  1\n",
       "Արմավիր, Էջմիածին                                1\n",
       "Արարատ, Բյուրավան գյուղ                          1\n",
       "Կոտայք, Ձորաղբյուր գյուղ                         1\n",
       "Վայոց ձոր, Ջերմուկ                               1\n",
       "Արմավիր, Զարթոնք գյուղ                           1\n",
       "Name: count, dtype: int64"
      ]
     },
     "execution_count": 9,
     "metadata": {},
     "output_type": "execute_result"
    }
   ],
   "execution_count": 9
  },
  {
   "cell_type": "code",
   "id": "c95cf617-a805-49c8-8372-af2a6dcd32c3",
   "metadata": {
    "ExecuteTime": {
     "end_time": "2025-07-04T15:50:57.157473Z",
     "start_time": "2025-07-04T15:50:57.147790Z"
    }
   },
   "source": [
    "data = data[data[\"Region\"].str.startswith(\"Երևան\")]"
   ],
   "outputs": [],
   "execution_count": 10
  },
  {
   "cell_type": "code",
   "id": "d0295834-684a-4205-b77a-c3eb04718366",
   "metadata": {
    "ExecuteTime": {
     "end_time": "2025-07-04T15:50:57.570665Z",
     "start_time": "2025-07-04T15:50:57.555636Z"
    }
   },
   "source": [
    "data[\"Region\"].value_counts()"
   ],
   "outputs": [
    {
     "data": {
      "text/plain": [
       "Region\n",
       "Երևան, Արաբկիր             1232\n",
       "Երևան, Կենտրոն              781\n",
       "Երևան, Նոր Նորք             494\n",
       "Երևան, Քանաքեռ Զեյթուն      392\n",
       "Երևան, Մալաթիա Սեբաստիա     347\n",
       "Երևան, Դավթաշեն             322\n",
       "Երևան, Աջափնյակ             314\n",
       "Երևան, Շենգավիթ             285\n",
       "Երևան, Էրեբունի             154\n",
       "Երևան, Ավան                 148\n",
       "Երևան, Նորք Մարաշ            11\n",
       "Երևան, Նուբարաշեն             9\n",
       "Name: count, dtype: int64"
      ]
     },
     "execution_count": 11,
     "metadata": {},
     "output_type": "execute_result"
    }
   ],
   "execution_count": 11
  },
  {
   "cell_type": "code",
   "id": "76737ca5-02f7-48c8-b23c-8505b126bd9a",
   "metadata": {
    "ExecuteTime": {
     "end_time": "2025-07-04T15:50:57.831997Z",
     "start_time": "2025-07-04T15:50:57.797193Z"
    }
   },
   "source": [
    "data[['City', 'District']] = data['Region'].str.split(', ', expand=True)"
   ],
   "outputs": [],
   "execution_count": 12
  },
  {
   "cell_type": "code",
   "id": "19c6a9fc-3859-46ae-97c3-52a45354631d",
   "metadata": {
    "ExecuteTime": {
     "end_time": "2025-07-04T15:50:57.921922Z",
     "start_time": "2025-07-04T15:50:57.916218Z"
    }
   },
   "source": [
    "del data[\"Region\"]\n",
    "del data[\"City\"]"
   ],
   "outputs": [],
   "execution_count": 13
  },
  {
   "cell_type": "code",
   "id": "d5583e85-81c5-4877-bedf-3a4de012c15f",
   "metadata": {
    "ExecuteTime": {
     "end_time": "2025-07-04T15:50:58.307744Z",
     "start_time": "2025-07-04T15:50:58.294170Z"
    }
   },
   "source": [
    "data"
   ],
   "outputs": [
    {
     "data": {
      "text/plain": [
       "             Building Type Rooms  Area  Floor      Renovation    Price  \\\n",
       "0                     Քարե     3    50      1         Կապիտալ   $64000   \n",
       "1     Մոնոլիտ, Նորակառույց     2    70      3  Զրոյական վիճակ  $150000   \n",
       "2                Պանելային     3   100      7   Պետական վիճակ  $115000   \n",
       "3                Պանելային     1    45      1         Կապիտալ   $67000   \n",
       "4                Պանելային     3    85      6   Պետական վիճակ     $386   \n",
       "...                    ...   ...   ...    ...             ...      ...   \n",
       "4585                  Քարե     3    42      5         Կապիտալ   $70000   \n",
       "4586             Պանելային     2    53      4    Նորմալ վիճակ   $82000   \n",
       "4587  Մոնոլիտ, Նորակառույց     2    46      3    Դիզայներական  $148000   \n",
       "4588             Պանելային     4    84      7   Պետական վիճակ  $142000   \n",
       "4589                  Քարե     2    52      2        Կոսմետիկ   $83000   \n",
       "\n",
       "              District  \n",
       "0             Շենգավիթ  \n",
       "1              Արաբկիր  \n",
       "2     Մալաթիա Սեբաստիա  \n",
       "3     Մալաթիա Սեբաստիա  \n",
       "4     Մալաթիա Սեբաստիա  \n",
       "...                ...  \n",
       "4585          Էրեբունի  \n",
       "4586          Աջափնյակ  \n",
       "4587           Կենտրոն  \n",
       "4588           Կենտրոն  \n",
       "4589          Էրեբունի  \n",
       "\n",
       "[4489 rows x 7 columns]"
      ],
      "text/html": [
       "<div>\n",
       "<style scoped>\n",
       "    .dataframe tbody tr th:only-of-type {\n",
       "        vertical-align: middle;\n",
       "    }\n",
       "\n",
       "    .dataframe tbody tr th {\n",
       "        vertical-align: top;\n",
       "    }\n",
       "\n",
       "    .dataframe thead th {\n",
       "        text-align: right;\n",
       "    }\n",
       "</style>\n",
       "<table border=\"1\" class=\"dataframe\">\n",
       "  <thead>\n",
       "    <tr style=\"text-align: right;\">\n",
       "      <th></th>\n",
       "      <th>Building Type</th>\n",
       "      <th>Rooms</th>\n",
       "      <th>Area</th>\n",
       "      <th>Floor</th>\n",
       "      <th>Renovation</th>\n",
       "      <th>Price</th>\n",
       "      <th>District</th>\n",
       "    </tr>\n",
       "  </thead>\n",
       "  <tbody>\n",
       "    <tr>\n",
       "      <th>0</th>\n",
       "      <td>Քարե</td>\n",
       "      <td>3</td>\n",
       "      <td>50</td>\n",
       "      <td>1</td>\n",
       "      <td>Կապիտալ</td>\n",
       "      <td>$64000</td>\n",
       "      <td>Շենգավիթ</td>\n",
       "    </tr>\n",
       "    <tr>\n",
       "      <th>1</th>\n",
       "      <td>Մոնոլիտ, Նորակառույց</td>\n",
       "      <td>2</td>\n",
       "      <td>70</td>\n",
       "      <td>3</td>\n",
       "      <td>Զրոյական վիճակ</td>\n",
       "      <td>$150000</td>\n",
       "      <td>Արաբկիր</td>\n",
       "    </tr>\n",
       "    <tr>\n",
       "      <th>2</th>\n",
       "      <td>Պանելային</td>\n",
       "      <td>3</td>\n",
       "      <td>100</td>\n",
       "      <td>7</td>\n",
       "      <td>Պետական վիճակ</td>\n",
       "      <td>$115000</td>\n",
       "      <td>Մալաթիա Սեբաստիա</td>\n",
       "    </tr>\n",
       "    <tr>\n",
       "      <th>3</th>\n",
       "      <td>Պանելային</td>\n",
       "      <td>1</td>\n",
       "      <td>45</td>\n",
       "      <td>1</td>\n",
       "      <td>Կապիտալ</td>\n",
       "      <td>$67000</td>\n",
       "      <td>Մալաթիա Սեբաստիա</td>\n",
       "    </tr>\n",
       "    <tr>\n",
       "      <th>4</th>\n",
       "      <td>Պանելային</td>\n",
       "      <td>3</td>\n",
       "      <td>85</td>\n",
       "      <td>6</td>\n",
       "      <td>Պետական վիճակ</td>\n",
       "      <td>$386</td>\n",
       "      <td>Մալաթիա Սեբաստիա</td>\n",
       "    </tr>\n",
       "    <tr>\n",
       "      <th>...</th>\n",
       "      <td>...</td>\n",
       "      <td>...</td>\n",
       "      <td>...</td>\n",
       "      <td>...</td>\n",
       "      <td>...</td>\n",
       "      <td>...</td>\n",
       "      <td>...</td>\n",
       "    </tr>\n",
       "    <tr>\n",
       "      <th>4585</th>\n",
       "      <td>Քարե</td>\n",
       "      <td>3</td>\n",
       "      <td>42</td>\n",
       "      <td>5</td>\n",
       "      <td>Կապիտալ</td>\n",
       "      <td>$70000</td>\n",
       "      <td>Էրեբունի</td>\n",
       "    </tr>\n",
       "    <tr>\n",
       "      <th>4586</th>\n",
       "      <td>Պանելային</td>\n",
       "      <td>2</td>\n",
       "      <td>53</td>\n",
       "      <td>4</td>\n",
       "      <td>Նորմալ վիճակ</td>\n",
       "      <td>$82000</td>\n",
       "      <td>Աջափնյակ</td>\n",
       "    </tr>\n",
       "    <tr>\n",
       "      <th>4587</th>\n",
       "      <td>Մոնոլիտ, Նորակառույց</td>\n",
       "      <td>2</td>\n",
       "      <td>46</td>\n",
       "      <td>3</td>\n",
       "      <td>Դիզայներական</td>\n",
       "      <td>$148000</td>\n",
       "      <td>Կենտրոն</td>\n",
       "    </tr>\n",
       "    <tr>\n",
       "      <th>4588</th>\n",
       "      <td>Պանելային</td>\n",
       "      <td>4</td>\n",
       "      <td>84</td>\n",
       "      <td>7</td>\n",
       "      <td>Պետական վիճակ</td>\n",
       "      <td>$142000</td>\n",
       "      <td>Կենտրոն</td>\n",
       "    </tr>\n",
       "    <tr>\n",
       "      <th>4589</th>\n",
       "      <td>Քարե</td>\n",
       "      <td>2</td>\n",
       "      <td>52</td>\n",
       "      <td>2</td>\n",
       "      <td>Կոսմետիկ</td>\n",
       "      <td>$83000</td>\n",
       "      <td>Էրեբունի</td>\n",
       "    </tr>\n",
       "  </tbody>\n",
       "</table>\n",
       "<p>4489 rows × 7 columns</p>\n",
       "</div>"
      ]
     },
     "execution_count": 14,
     "metadata": {},
     "output_type": "execute_result"
    }
   ],
   "execution_count": 14
  },
  {
   "cell_type": "code",
   "id": "a895eaed-fe71-4b6e-b0eb-8b4d778ba177",
   "metadata": {
    "ExecuteTime": {
     "end_time": "2025-07-04T15:50:58.642204Z",
     "start_time": "2025-07-04T15:50:58.635117Z"
    }
   },
   "source": [
    "cols = ['District'] + [col for col in data.columns if col != 'District']\n",
    "data = data[cols]"
   ],
   "outputs": [],
   "execution_count": 15
  },
  {
   "cell_type": "code",
   "id": "77ed52cc-72e3-495b-9942-fa58db45e7f7",
   "metadata": {
    "ExecuteTime": {
     "end_time": "2025-07-04T15:50:58.768310Z",
     "start_time": "2025-07-04T15:50:58.756227Z"
    }
   },
   "source": [
    "data.head()"
   ],
   "outputs": [
    {
     "data": {
      "text/plain": [
       "           District         Building Type Rooms  Area  Floor      Renovation  \\\n",
       "0          Շենգավիթ                  Քարե     3    50      1         Կապիտալ   \n",
       "1           Արաբկիր  Մոնոլիտ, Նորակառույց     2    70      3  Զրոյական վիճակ   \n",
       "2  Մալաթիա Սեբաստիա             Պանելային     3   100      7   Պետական վիճակ   \n",
       "3  Մալաթիա Սեբաստիա             Պանելային     1    45      1         Կապիտալ   \n",
       "4  Մալաթիա Սեբաստիա             Պանելային     3    85      6   Պետական վիճակ   \n",
       "\n",
       "     Price  \n",
       "0   $64000  \n",
       "1  $150000  \n",
       "2  $115000  \n",
       "3   $67000  \n",
       "4     $386  "
      ],
      "text/html": [
       "<div>\n",
       "<style scoped>\n",
       "    .dataframe tbody tr th:only-of-type {\n",
       "        vertical-align: middle;\n",
       "    }\n",
       "\n",
       "    .dataframe tbody tr th {\n",
       "        vertical-align: top;\n",
       "    }\n",
       "\n",
       "    .dataframe thead th {\n",
       "        text-align: right;\n",
       "    }\n",
       "</style>\n",
       "<table border=\"1\" class=\"dataframe\">\n",
       "  <thead>\n",
       "    <tr style=\"text-align: right;\">\n",
       "      <th></th>\n",
       "      <th>District</th>\n",
       "      <th>Building Type</th>\n",
       "      <th>Rooms</th>\n",
       "      <th>Area</th>\n",
       "      <th>Floor</th>\n",
       "      <th>Renovation</th>\n",
       "      <th>Price</th>\n",
       "    </tr>\n",
       "  </thead>\n",
       "  <tbody>\n",
       "    <tr>\n",
       "      <th>0</th>\n",
       "      <td>Շենգավիթ</td>\n",
       "      <td>Քարե</td>\n",
       "      <td>3</td>\n",
       "      <td>50</td>\n",
       "      <td>1</td>\n",
       "      <td>Կապիտալ</td>\n",
       "      <td>$64000</td>\n",
       "    </tr>\n",
       "    <tr>\n",
       "      <th>1</th>\n",
       "      <td>Արաբկիր</td>\n",
       "      <td>Մոնոլիտ, Նորակառույց</td>\n",
       "      <td>2</td>\n",
       "      <td>70</td>\n",
       "      <td>3</td>\n",
       "      <td>Զրոյական վիճակ</td>\n",
       "      <td>$150000</td>\n",
       "    </tr>\n",
       "    <tr>\n",
       "      <th>2</th>\n",
       "      <td>Մալաթիա Սեբաստիա</td>\n",
       "      <td>Պանելային</td>\n",
       "      <td>3</td>\n",
       "      <td>100</td>\n",
       "      <td>7</td>\n",
       "      <td>Պետական վիճակ</td>\n",
       "      <td>$115000</td>\n",
       "    </tr>\n",
       "    <tr>\n",
       "      <th>3</th>\n",
       "      <td>Մալաթիա Սեբաստիա</td>\n",
       "      <td>Պանելային</td>\n",
       "      <td>1</td>\n",
       "      <td>45</td>\n",
       "      <td>1</td>\n",
       "      <td>Կապիտալ</td>\n",
       "      <td>$67000</td>\n",
       "    </tr>\n",
       "    <tr>\n",
       "      <th>4</th>\n",
       "      <td>Մալաթիա Սեբաստիա</td>\n",
       "      <td>Պանելային</td>\n",
       "      <td>3</td>\n",
       "      <td>85</td>\n",
       "      <td>6</td>\n",
       "      <td>Պետական վիճակ</td>\n",
       "      <td>$386</td>\n",
       "    </tr>\n",
       "  </tbody>\n",
       "</table>\n",
       "</div>"
      ]
     },
     "execution_count": 16,
     "metadata": {},
     "output_type": "execute_result"
    }
   ],
   "execution_count": 16
  },
  {
   "cell_type": "code",
   "id": "9c18da22-4591-4d54-9107-dba8bff31575",
   "metadata": {
    "ExecuteTime": {
     "end_time": "2025-07-04T15:50:58.935526Z",
     "start_time": "2025-07-04T15:50:58.923900Z"
    }
   },
   "source": [
    "data[\"Rooms\"].value_counts()"
   ],
   "outputs": [
    {
     "data": {
      "text/plain": [
       "Rooms\n",
       "3                     1910\n",
       "2                     1578\n",
       "1                      476\n",
       "4                      448\n",
       "5                       41\n",
       "4, Դուպլեքս              8\n",
       "6                        6\n",
       "3, Դուպլեքս              6\n",
       "2, Դուպլեքս              4\n",
       "5, Դուպլեքս              4\n",
       "Ազատ նախագիծ             3\n",
       "7                        3\n",
       "8 և ավել, Դուպլեքս       1\n",
       "6, Դուպլեքս              1\n",
       "Name: count, dtype: int64"
      ]
     },
     "execution_count": 17,
     "metadata": {},
     "output_type": "execute_result"
    }
   ],
   "execution_count": 17
  },
  {
   "cell_type": "code",
   "id": "add1d47e-5b7e-41ac-9cb3-e0cec983d8a3",
   "metadata": {
    "ExecuteTime": {
     "end_time": "2025-07-04T15:50:59.030346Z",
     "start_time": "2025-07-04T15:50:59.023933Z"
    }
   },
   "source": [
    "values_to_delete = [\n",
    "    \"4, Դուպլեքս\",\n",
    "    \"6\",\n",
    "    \"3, Դուպլեքս\",\n",
    "    \"2, Դուպլեքս\",\n",
    "    \"5, Դուպլեքս\",\n",
    "    \"Ազատ նախագիծ\",\n",
    "    \"7\",\n",
    "    \"8 և ավել, Դուպլեքս\",\n",
    "    \"6, Դուպլեքս\"\n",
    "]\n",
    "data = data[~data[\"Rooms\"].isin(values_to_delete)]"
   ],
   "outputs": [],
   "execution_count": 18
  },
  {
   "cell_type": "code",
   "id": "643eac69-0bc3-42aa-a886-b517be922129",
   "metadata": {
    "ExecuteTime": {
     "end_time": "2025-07-04T15:51:00.311053Z",
     "start_time": "2025-07-04T15:51:00.301330Z"
    }
   },
   "source": [
    "data[\"Rooms\"] = data[\"Rooms\"].astype(int)"
   ],
   "outputs": [],
   "execution_count": 19
  },
  {
   "cell_type": "code",
   "id": "4ef3a44d-325e-4c15-a604-7df7a97a9e0b",
   "metadata": {
    "ExecuteTime": {
     "end_time": "2025-07-04T15:51:00.818804Z",
     "start_time": "2025-07-04T15:51:00.812549Z"
    }
   },
   "source": [
    "data.shape"
   ],
   "outputs": [
    {
     "data": {
      "text/plain": [
       "(4453, 7)"
      ]
     },
     "execution_count": 20,
     "metadata": {},
     "output_type": "execute_result"
    }
   ],
   "execution_count": 20
  },
  {
   "cell_type": "code",
   "id": "28888be8-6f8f-48ea-8047-4826204c923e",
   "metadata": {
    "ExecuteTime": {
     "end_time": "2025-07-04T15:51:01.255388Z",
     "start_time": "2025-07-04T15:51:01.243943Z"
    }
   },
   "source": [
    "Q1 = data[\"Area\"].quantile(0.25)\n",
    "Q3 = data[\"Area\"].quantile(0.75)\n",
    "IQR = Q3 - Q1\n",
    "\n",
    "print(f\"Q1 (25th percentile): {Q1}\")\n",
    "print(f\"Q3 (75th percentile): {Q3}\")\n",
    "print(f\"IQR (Interquartile Range): {IQR}\")\n"
   ],
   "outputs": [
    {
     "name": "stdout",
     "output_type": "stream",
     "text": [
      "Q1 (25th percentile): 53.0\n",
      "Q3 (75th percentile): 84.0\n",
      "IQR (Interquartile Range): 31.0\n"
     ]
    }
   ],
   "execution_count": 21
  },
  {
   "cell_type": "code",
   "id": "cb2d842b-4b3d-4807-ae22-5971cf2f191f",
   "metadata": {
    "ExecuteTime": {
     "end_time": "2025-07-04T15:51:01.801566Z",
     "start_time": "2025-07-04T15:51:01.790840Z"
    }
   },
   "source": [
    "lower_bound = Q1 - 1.5 * IQR\n",
    "upper_bound = Q3 + 1.5 * IQR\n",
    "\n",
    "outliers = data[(data[\"Area\"] < lower_bound) | (data[\"Area\"] > upper_bound)]\n",
    "print(\"Number of outliers:\", outliers.shape[0])\n",
    "outliers.shape"
   ],
   "outputs": [
    {
     "name": "stdout",
     "output_type": "stream",
     "text": [
      "Number of outliers: 126\n"
     ]
    },
    {
     "data": {
      "text/plain": [
       "(126, 7)"
      ]
     },
     "execution_count": 22,
     "metadata": {},
     "output_type": "execute_result"
    }
   ],
   "execution_count": 22
  },
  {
   "cell_type": "code",
   "id": "e3da6a66-fe40-418d-8a9b-1a14fc7fc5fd",
   "metadata": {
    "ExecuteTime": {
     "end_time": "2025-07-04T15:51:02.487467Z",
     "start_time": "2025-07-04T15:51:02.480999Z"
    }
   },
   "source": [
    "data.shape"
   ],
   "outputs": [
    {
     "data": {
      "text/plain": [
       "(4453, 7)"
      ]
     },
     "execution_count": 23,
     "metadata": {},
     "output_type": "execute_result"
    }
   ],
   "execution_count": 23
  },
  {
   "cell_type": "code",
   "id": "dcbbeaec-e475-4458-b172-8c06793bf6a9",
   "metadata": {
    "ExecuteTime": {
     "end_time": "2025-07-04T15:51:02.959093Z",
     "start_time": "2025-07-04T15:51:02.952456Z"
    }
   },
   "source": [
    "data = data[(data[\"Area\"] >= lower_bound) & (data[\"Area\"] <= upper_bound)]"
   ],
   "outputs": [],
   "execution_count": 24
  },
  {
   "cell_type": "code",
   "id": "9b283e06-e074-4ecf-a41b-5be82f368397",
   "metadata": {
    "ExecuteTime": {
     "end_time": "2025-07-04T15:51:03.359279Z",
     "start_time": "2025-07-04T15:51:03.354399Z"
    }
   },
   "source": [
    "data.shape"
   ],
   "outputs": [
    {
     "data": {
      "text/plain": [
       "(4327, 7)"
      ]
     },
     "execution_count": 25,
     "metadata": {},
     "output_type": "execute_result"
    }
   ],
   "execution_count": 25
  },
  {
   "cell_type": "code",
   "id": "0f698f65-fa02-4110-8ffa-59749dcc8100",
   "metadata": {
    "ExecuteTime": {
     "end_time": "2025-07-04T15:51:03.847181Z",
     "start_time": "2025-07-04T15:51:03.832938Z"
    }
   },
   "source": [
    "data['Price'] = (\n",
    "    data['Price']\n",
    "    .str.replace('$', '', regex=False)\n",
    "    .str.replace(',', '', regex=False)\n",
    ")\n",
    "data['Price'] = pd.to_numeric(data['Price'], errors='coerce')"
   ],
   "outputs": [],
   "execution_count": 26
  },
  {
   "cell_type": "code",
   "id": "bb760a73-2e4a-46ab-8080-6053daf7318b",
   "metadata": {
    "ExecuteTime": {
     "end_time": "2025-07-04T15:51:04.278989Z",
     "start_time": "2025-07-04T15:51:04.270242Z"
    }
   },
   "source": [
    "data = data.dropna(subset=['Price'])"
   ],
   "outputs": [],
   "execution_count": 27
  },
  {
   "cell_type": "code",
   "id": "0568f84e-b9db-4fbc-9f67-318457d84249",
   "metadata": {
    "ExecuteTime": {
     "end_time": "2025-07-04T15:51:04.959789Z",
     "start_time": "2025-07-04T15:51:04.946170Z"
    }
   },
   "source": [
    "data.isnull().sum()"
   ],
   "outputs": [
    {
     "data": {
      "text/plain": [
       "District         0\n",
       "Building Type    0\n",
       "Rooms            0\n",
       "Area             0\n",
       "Floor            0\n",
       "Renovation       0\n",
       "Price            0\n",
       "dtype: int64"
      ]
     },
     "execution_count": 28,
     "metadata": {},
     "output_type": "execute_result"
    }
   ],
   "execution_count": 28
  },
  {
   "cell_type": "code",
   "id": "43ffe50c-4087-4e7f-845c-b3f2d9221b2b",
   "metadata": {
    "ExecuteTime": {
     "end_time": "2025-07-04T15:51:06.059553Z",
     "start_time": "2025-07-04T15:51:06.040244Z"
    }
   },
   "source": [
    "data.info()"
   ],
   "outputs": [
    {
     "name": "stdout",
     "output_type": "stream",
     "text": [
      "<class 'pandas.core.frame.DataFrame'>\n",
      "Index: 4276 entries, 0 to 4589\n",
      "Data columns (total 7 columns):\n",
      " #   Column         Non-Null Count  Dtype  \n",
      "---  ------         --------------  -----  \n",
      " 0   District       4276 non-null   object \n",
      " 1   Building Type  4276 non-null   object \n",
      " 2   Rooms          4276 non-null   int64  \n",
      " 3   Area           4276 non-null   int64  \n",
      " 4   Floor          4276 non-null   int64  \n",
      " 5   Renovation     4276 non-null   object \n",
      " 6   Price          4276 non-null   float64\n",
      "dtypes: float64(1), int64(3), object(3)\n",
      "memory usage: 267.2+ KB\n"
     ]
    }
   ],
   "execution_count": 29
  },
  {
   "cell_type": "code",
   "id": "cc81cf33-46d0-49a7-92d5-e848b3c4b5c3",
   "metadata": {
    "ExecuteTime": {
     "end_time": "2025-07-04T15:51:06.772001Z",
     "start_time": "2025-07-04T15:51:06.761111Z"
    }
   },
   "source": [
    "data.describe"
   ],
   "outputs": [
    {
     "data": {
      "text/plain": [
       "<bound method NDFrame.describe of               District         Building Type  Rooms  Area  Floor  \\\n",
       "0             Շենգավիթ                  Քարե      3    50      1   \n",
       "1              Արաբկիր  Մոնոլիտ, Նորակառույց      2    70      3   \n",
       "2     Մալաթիա Սեբաստիա             Պանելային      3   100      7   \n",
       "3     Մալաթիա Սեբաստիա             Պանելային      1    45      1   \n",
       "4     Մալաթիա Սեբաստիա             Պանելային      3    85      6   \n",
       "...                ...                   ...    ...   ...    ...   \n",
       "4585          Էրեբունի                  Քարե      3    42      5   \n",
       "4586          Աջափնյակ             Պանելային      2    53      4   \n",
       "4587           Կենտրոն  Մոնոլիտ, Նորակառույց      2    46      3   \n",
       "4588           Կենտրոն             Պանելային      4    84      7   \n",
       "4589          Էրեբունի                  Քարե      2    52      2   \n",
       "\n",
       "          Renovation     Price  \n",
       "0            Կապիտալ   64000.0  \n",
       "1     Զրոյական վիճակ  150000.0  \n",
       "2      Պետական վիճակ  115000.0  \n",
       "3            Կապիտալ   67000.0  \n",
       "4      Պետական վիճակ     386.0  \n",
       "...              ...       ...  \n",
       "4585         Կապիտալ   70000.0  \n",
       "4586    Նորմալ վիճակ   82000.0  \n",
       "4587    Դիզայներական  148000.0  \n",
       "4588   Պետական վիճակ  142000.0  \n",
       "4589        Կոսմետիկ   83000.0  \n",
       "\n",
       "[4276 rows x 7 columns]>"
      ]
     },
     "execution_count": 30,
     "metadata": {},
     "output_type": "execute_result"
    }
   ],
   "execution_count": 30
  },
  {
   "cell_type": "code",
   "id": "9d1e102e-2a38-4cc2-8215-8c5faefc25e4",
   "metadata": {
    "ExecuteTime": {
     "end_time": "2025-07-04T15:51:07.491973Z",
     "start_time": "2025-07-04T15:51:07.484614Z"
    }
   },
   "source": [
    "data.shape"
   ],
   "outputs": [
    {
     "data": {
      "text/plain": [
       "(4276, 7)"
      ]
     },
     "execution_count": 31,
     "metadata": {},
     "output_type": "execute_result"
    }
   ],
   "execution_count": 31
  },
  {
   "cell_type": "code",
   "id": "55d0d2cc-b10d-4952-bdf7-b60b78a542fa",
   "metadata": {
    "ExecuteTime": {
     "end_time": "2025-07-04T15:51:08.417623Z",
     "start_time": "2025-07-04T15:51:08.405553Z"
    }
   },
   "source": [
    "Q1_price = data[\"Price\"].quantile(0.25)\n",
    "Q3_price = data[\"Price\"].quantile(0.75)\n",
    "IQR_price = Q3_price - Q1_price\n",
    "\n",
    "print(f\"Q1 (25th percentile): {Q1_price}\")\n",
    "print(f\"Q3 (75th percentile): {Q3_price}\")\n",
    "print(f\"IQR (Interquartile Range): {IQR_price}\")\n"
   ],
   "outputs": [
    {
     "name": "stdout",
     "output_type": "stream",
     "text": [
      "Q1 (25th percentile): 82881.75\n",
      "Q3 (75th percentile): 159000.0\n",
      "IQR (Interquartile Range): 76118.25\n"
     ]
    }
   ],
   "execution_count": 32
  },
  {
   "cell_type": "code",
   "id": "f606bcda-d033-4f77-b2bb-d5fb8bbff029",
   "metadata": {
    "scrolled": true,
    "ExecuteTime": {
     "end_time": "2025-07-04T15:51:09.642825Z",
     "start_time": "2025-07-04T15:51:09.635856Z"
    }
   },
   "source": [
    "lower_bound_price = Q1_price - 1.5 * IQR_price\n",
    "upper_bound_price = Q3_price + 1.5 * IQR_price\n",
    "\n",
    "print(f\"Lower bound: {lower_bound_price}\")\n",
    "print(f\"Upper bound: {upper_bound_price}\")"
   ],
   "outputs": [
    {
     "name": "stdout",
     "output_type": "stream",
     "text": [
      "Lower bound: -31295.625\n",
      "Upper bound: 273177.375\n"
     ]
    }
   ],
   "execution_count": 33
  },
  {
   "cell_type": "code",
   "id": "af022fcd-d458-4b80-8752-d911353f1f04",
   "metadata": {
    "ExecuteTime": {
     "end_time": "2025-07-04T15:51:10.956933Z",
     "start_time": "2025-07-04T15:51:10.948543Z"
    }
   },
   "source": [
    "data = data[(data[\"Price\"] >= 30000) & (data[\"Price\"] <= upper_bound_price)]\n",
    "print(f\"Shape after cleaning: {data.shape}\")"
   ],
   "outputs": [
    {
     "name": "stdout",
     "output_type": "stream",
     "text": [
      "Shape after cleaning: (4003, 7)\n"
     ]
    }
   ],
   "execution_count": 34
  },
  {
   "cell_type": "code",
   "id": "0b5dcb49-ecf2-4f8a-b5d4-65c1ad445191",
   "metadata": {
    "ExecuteTime": {
     "end_time": "2025-07-04T15:51:11.834655Z",
     "start_time": "2025-07-04T15:51:11.828461Z"
    }
   },
   "source": [
    "data.shape"
   ],
   "outputs": [
    {
     "data": {
      "text/plain": [
       "(4003, 7)"
      ]
     },
     "execution_count": 35,
     "metadata": {},
     "output_type": "execute_result"
    }
   ],
   "execution_count": 35
  },
  {
   "cell_type": "code",
   "id": "b275e1cb-6345-4e32-bcde-aabd7c5ccf66",
   "metadata": {
    "ExecuteTime": {
     "end_time": "2025-07-04T15:51:13.868902Z",
     "start_time": "2025-07-04T15:51:13.826295Z"
    }
   },
   "source": "data.to_csv(r\"C:\\\\Users\\\\Sevak\\\\Desktop\\\\Analysis-of-Real-Estate-Markets-of-Armenia-main\\\\data\\\\cleaned_data.csv\", index=False)",
   "outputs": [],
   "execution_count": 36
  },
  {
   "cell_type": "markdown",
   "id": "124fec59-dfb1-4380-8abd-f3591eda5ad2",
   "metadata": {},
   "source": [
    "## Data Cleaning Summary\n",
    "\n",
    "During this stage, I **cleaned and prepared the Yerevan real estate dataset** to ensure it is suitable for **accurate analysis and modeling**. Below is a clear summary of the cleaning steps:\n",
    "\n",
    "---\n",
    "\n",
    "### 1️ Initial Data Overview\n",
    "\n",
    "* **Shape before cleaning:** `(4590, 7)` (4590 rows, 7 columns)\n",
    "* Columns:\n",
    "\n",
    "  * `District`, `Building Type`, `Rooms`, `Area`, `Floor`, `Renovation`, `Price`\n",
    "* The dataset contained:\n",
    "\n",
    "  * Inconsistent and rare category values\n",
    "  * Potential outliers\n",
    "  * Non-Yerevan entries not relevant for focused analysis.\n",
    "\n",
    "---\n",
    "\n",
    "### 2️ Column Cleaning\n",
    "\n",
    "✅ **Renamed columns** from Armenian to English for clarity:\n",
    "\n",
    "* `\"Տարածաշրջան\"` ➔ `\"District\"`, `\"Սենյակներ\"` ➔ `\"Rooms\"`, etc.\n",
    "\n",
    "✅ **Filtered data to Yerevan only** to match the analysis scope.\n",
    "\n",
    "✅ **Removed rare/inconsistent `Rooms` categories**, keeping only consistent, meaningful values:\n",
    "\n",
    "* Removed values like `\"Ազատ նախագիծ\"`, `\"4, Դուպլեքս\"`, etc.\n",
    "* Retained primary categories: `1`, `2`, `3`, `4`, `5`.\n",
    "\n",
    "✅ Ensured **numeric columns** (`Area`, `Price`) were correctly converted to numeric types for analysis.\n",
    "\n",
    "---\n",
    "\n",
    "### 3️ Outlier Removal (`Area` and `Price`)\n",
    "\n",
    "✅ Applied **IQR method on `Area`**:\n",
    "\n",
    "* **Q1 (25%):** 53.0\n",
    "* **Q3 (75%):** 84.0\n",
    "* **IQR:** 31.0\n",
    "* **Lower Bound:** 6.5\n",
    "* **Upper Bound:** 130.5\n",
    "* Removed **126 outlier rows** outside this range.\n",
    "\n",
    "✅ Applied **upper-bound filtering on `Price`**:\n",
    "\n",
    "* Used **IQR for upper bound** while manually setting a practical **lower bound (`~31,000`)** to avoid losing valuable data.\n",
    "* Removed unrealistically high or low prices while preserving the market distribution.\n",
    "\n",
    "---\n",
    "\n",
    "### 4️ Final Result\n",
    "\n",
    "✅ **Shape after cleaning:** `(4003, 7)`\n",
    "✅ In total, **587 rows were removed** due to:\n",
    "\n",
    "* Filtering non-Yerevan entries\n",
    "* Removing rare/inconsistent category values\n",
    "* Removing outliers in `Area` and `Price`.\n",
    "\n",
    "---\n",
    "\n",
    "###  Conclusion\n",
    "\n",
    "The dataset is now:\n",
    "\n",
    "* **Clean and consistent**\n",
    "* **Focused on Yerevan**\n",
    "* **Outlier-free for reliable modeling**\n",
    "\n",
    "Ready for:\n",
    "\n",
    "* Price prediction modeling\n",
    "* Exploratory data analysis\n",
    "* Generating clear visual insights into the **Yerevan real estate market**.\n",
    "\n",
    "---\n",
    "##  Key Cleaning Statistics\n",
    "\n",
    "| Step                        | Description                                              | Rows Removed | Shape After Step |\n",
    "| --------------------------- | -------------------------------------------------------- | ------------ | ---------------- |\n",
    "| **Initial Data**            | Raw dataset                                              | -            | `(4590, 7)`      |\n",
    "| **Filter to Yerevan**       | Removed non-Yerevan entries                              | 64           | `(4526, 7)`      |\n",
    "| **Remove rare `Rooms`**     | Dropped inconsistent/rare `Rooms` categories             | 123          | `(4403, 7)`      |\n",
    "| **Remove `Area` outliers**  | Using IQR method (`6.5 < Area < 130.5`)                  | 126          | `(4277, 7)`      |\n",
    "| **Remove `Price` outliers** | Applied upper-bound IQR, set lower bound at \\~31,000 AMD | 274          | `(4003, 7)`      |\n",
    "\n",
    " **Total rows removed:** `4590 - 4003 = 587`\n",
    "\n",
    " **Final dataset shape:** `(4003, 7)`\n",
    "\n",
    "---\n",
    "\n",
    "## Next Steps\n",
    "\n",
    "The cleaned dataset is ready for:\n",
    "\n",
    "* Exploratory Data Analysis (EDA)\n",
    "* Feature engineering\n",
    "* Predictive modeling for **Yerevan real estate prices**\n"
   ]
  },
  {
   "cell_type": "code",
   "execution_count": null,
   "id": "ac972703-d1b8-4c49-9e27-4e698ca4767d",
   "metadata": {},
   "outputs": [],
   "source": []
  }
 ],
 "metadata": {
  "kernelspec": {
   "display_name": "Python 3 (ipykernel)",
   "language": "python",
   "name": "python3"
  },
  "language_info": {
   "codemirror_mode": {
    "name": "ipython",
    "version": 3
   },
   "file_extension": ".py",
   "mimetype": "text/x-python",
   "name": "python",
   "nbconvert_exporter": "python",
   "pygments_lexer": "ipython3",
   "version": "3.13.1"
  }
 },
 "nbformat": 4,
 "nbformat_minor": 5
}
